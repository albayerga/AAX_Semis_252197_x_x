{
 "cells": [
  {
   "cell_type": "code",
   "execution_count": 211,
   "id": "c6434504",
   "metadata": {},
   "outputs": [],
   "source": [
    "import pandas as pd\n",
    "import numpy as np\n",
    "import torch\n",
    "import torch.nn as nn\n",
    "import torch.optim as optim\n",
    "from torch.utils.data import Dataset, DataLoader, random_split\n",
    "import random\n",
    "import os\n",
    "from tqdm import tqdm\n",
    "import matplotlib.pyplot as plt\n",
    "from sklearn.metrics import accuracy_score, classification_report\n"
   ]
  },
  {
   "cell_type": "code",
   "execution_count": 212,
   "id": "fe81fc77",
   "metadata": {},
   "outputs": [],
   "source": [
    "# Set random seeds for reproducibility\n",
    "torch.manual_seed(42)\n",
    "np.random.seed(42)\n",
    "random.seed(42)"
   ]
  },
  {
   "cell_type": "code",
   "execution_count": 213,
   "id": "98b80f22",
   "metadata": {},
   "outputs": [],
   "source": [
    "# 1. Enhanced Data Loading & Preparation\n",
    "# ======================\n",
    "\n",
    "class PoseDataset(Dataset):\n",
    "    def __init__(self, features, labels):\n",
    "        # Normalize features\n",
    "        self.features = torch.FloatTensor((features - features.mean(axis=0)) / (features.std(axis=0) + 1e-8))\n",
    "        self.labels = torch.LongTensor(labels)\n",
    "        \n",
    "    def __len__(self):\n",
    "        return len(self.labels)\n",
    "    \n",
    "    def __getitem__(self, idx):\n",
    "        return self.features[idx], self.labels[idx]\n",
    "\n",
    "def load_client_data(client_id, data_dir):\n",
    "    \"\"\"Load and preprocess client data\"\"\"\n",
    "    features_path = os.path.join(data_dir, f'client_{client_id}_features.csv')\n",
    "    labels_path = os.path.join(data_dir, f'client_{client_id}_labels.csv')\n",
    "    \n",
    "    features = pd.read_csv(features_path, header=None).values\n",
    "    labels = pd.read_csv(labels_path, header=None).values.flatten()\n",
    "\n",
    "    # Filter invalid labels and normalize\n",
    "    valid_idx = (labels >= 0) & (labels < 12)\n",
    "    features = features[valid_idx]\n",
    "    labels = labels[valid_idx]\n",
    "    \n",
    "    return features, labels\n",
    "\n",
    "def load_test_data(data_dir):\n",
    "    \"\"\"Load and preprocess test data\"\"\"\n",
    "    test_features_path = os.path.join(data_dir, 'test_features.csv')\n",
    "    test_labels_path = os.path.join(data_dir, 'test_labels.csv')\n",
    "    \n",
    "    test_features = pd.read_csv(test_features_path, header=None).values\n",
    "    test_labels = pd.read_csv(test_labels_path, header=None).values.flatten()\n",
    "    \n",
    "    # Normalize test data using training stats (would normally use saved stats)\n",
    "    test_features = (test_features - test_features.mean(axis=0)) / (test_features.std(axis=0) + 1e-8)\n",
    "    \n",
    "    return test_features, test_labels\n"
   ]
  },
  {
   "cell_type": "code",
   "execution_count": 214,
   "id": "2440708b",
   "metadata": {},
   "outputs": [],
   "source": [
    "# 2. Enhanced Model Architecture\n",
    "# ======================\n",
    "\n",
    "class EnhancedPoseClassifier(nn.Module):\n",
    "    def __init__(self, input_size=270, num_classes=12):\n",
    "        super(EnhancedPoseClassifier, self).__init__()\n",
    "        self.model = nn.Sequential(\n",
    "            nn.Linear(input_size, 512),\n",
    "            nn.BatchNorm1d(512),\n",
    "            nn.ReLU(),\n",
    "            nn.Dropout(0.4),\n",
    "            \n",
    "            nn.Linear(512, 256),\n",
    "            nn.BatchNorm1d(256),\n",
    "            nn.ReLU(),\n",
    "            nn.Dropout(0.3),\n",
    "            \n",
    "            nn.Linear(256, 128),\n",
    "            nn.BatchNorm1d(128),\n",
    "            nn.ReLU(),\n",
    "            nn.Dropout(0.2),\n",
    "            \n",
    "            nn.Linear(128, num_classes)\n",
    "        )\n",
    "        \n",
    "    def forward(self, x):\n",
    "        return self.model(x)"
   ]
  },
  {
   "cell_type": "code",
   "execution_count": 215,
   "id": "70a28775",
   "metadata": {},
   "outputs": [],
   "source": [
    "# 3. Improved Federated Learning Setup\n",
    "# ======================\n",
    "\n",
    "def train_client(model, client_id, data_dir, epochs=5, batch_size=64):\n",
    "    \"\"\"Enhanced client training with learning rate scheduling\"\"\"\n",
    "    features, labels = load_client_data(client_id, data_dir)\n",
    "    dataset = PoseDataset(features, labels)\n",
    "    \n",
    "    # Split into train and validation (80/20)\n",
    "    train_size = int(0.8 * len(dataset))\n",
    "    val_size = len(dataset) - train_size\n",
    "    train_dataset, val_dataset = random_split(dataset, [train_size, val_size])\n",
    "    \n",
    "    train_loader = DataLoader(train_dataset, batch_size=batch_size, shuffle=True)\n",
    "    val_loader = DataLoader(val_dataset, batch_size=batch_size)\n",
    "    \n",
    "    criterion = nn.CrossEntropyLoss()\n",
    "    optimizer = optim.Adam(model.parameters(), lr=0.001)\n",
    "    scheduler = optim.lr_scheduler.ReduceLROnPlateau(optimizer, 'min', patience=1)\n",
    "    \n",
    "    model.train()\n",
    "    for epoch in range(epochs):\n",
    "        epoch_loss = 0.0\n",
    "        for batch_features, batch_labels in train_loader:\n",
    "            optimizer.zero_grad()\n",
    "            outputs = model(batch_features)\n",
    "            loss = criterion(outputs, batch_labels)\n",
    "            loss.backward()\n",
    "            optimizer.step()\n",
    "            epoch_loss += loss.item()\n",
    "        \n",
    "        # Validation\n",
    "        model.eval()\n",
    "        val_loss = 0.0\n",
    "        with torch.no_grad():\n",
    "            for batch_features, batch_labels in val_loader:\n",
    "                outputs = model(batch_features)\n",
    "                val_loss += criterion(outputs, batch_labels).item()\n",
    "        model.train()\n",
    "        \n",
    "        scheduler.step(val_loss)\n",
    "    \n",
    "    return model.state_dict()\n",
    "\n",
    "def aggregate_weights(client_weights, client_data_sizes):\n",
    "    \"\"\"Improved aggregation with momentum\"\"\"\n",
    "    total_samples = sum(client_data_sizes)\n",
    "    aggregated_weights = {}\n",
    "    \n",
    "    # Initialize with zeros as float tensors (fix type mismatch)\n",
    "    for key in client_weights[0].keys():\n",
    "        aggregated_weights[key] = torch.zeros_like(client_weights[0][key], dtype=torch.float)\n",
    "    \n",
    "    # Weighted average\n",
    "    for idx, weights in enumerate(client_weights):\n",
    "        weight_factor = client_data_sizes[idx] / total_samples\n",
    "        for key in weights.keys():\n",
    "            aggregated_weights[key] += weights[key] * weight_factor\n",
    "    \n",
    "    return aggregated_weights\n",
    "\n",
    "\n",
    "def evaluate_model(model, test_features, test_labels):\n",
    "    \"\"\"Enhanced evaluation with full classification report\"\"\"\n",
    "    model.eval()\n",
    "    with torch.no_grad():\n",
    "        test_tensor = torch.FloatTensor(test_features)\n",
    "        outputs = model(test_tensor)\n",
    "        _, predicted = torch.max(outputs.data, 1)\n",
    "        accuracy = accuracy_score(test_labels, predicted.numpy())\n",
    "        \n",
    "        # Print classification report\n",
    "        print(\"\\nClassification Report:\")\n",
    "        print(classification_report(test_labels, predicted.numpy(), zero_division=0))\n",
    "        \n",
    "    return accuracy\n"
   ]
  },
  {
   "cell_type": "code",
   "execution_count": 216,
   "id": "824680fd",
   "metadata": {},
   "outputs": [],
   "source": [
    "# 4. Enhanced FL Training Loop\n",
    "# ======================\n",
    "\n",
    "def federated_learning(data_dir, num_clients=10, rounds=30, clients_per_round=7, local_epochs=5, test_data_dir=None):\n",
    "    if test_data_dir is None:\n",
    "        test_data_dir = data_dir\n",
    "\n",
    "    # Initialize global model\n",
    "    global_model = EnhancedPoseClassifier(num_classes=12)\n",
    "    \n",
    "    # Load test data\n",
    "    test_features, test_labels = load_test_data(test_data_dir)\n",
    "    \n",
    "    # Get client data sizes\n",
    "    client_data_sizes = []\n",
    "    for i in range(1, num_clients+1):\n",
    "        _, labels = load_client_data(i, data_dir)\n",
    "        client_data_sizes.append(len(labels))\n",
    "    \n",
    "    print(\"Client data distribution:\", client_data_sizes)\n",
    "    \n",
    "    # Training tracking\n",
    "    accuracies = []\n",
    "    best_accuracy = 0\n",
    "    \n",
    "    # FL training loop\n",
    "    for round in tqdm(range(rounds), desc=\"FL Training\"):\n",
    "        # Select clients - prioritize those with more data\n",
    "        selection_probs = np.array(client_data_sizes) / sum(client_data_sizes)\n",
    "        selected_clients = np.random.choice(num_clients, clients_per_round, p=selection_probs, replace=False)\n",
    "        \n",
    "        # Train on selected clients\n",
    "        client_weights = []\n",
    "        for client_id in selected_clients:\n",
    "            local_model = EnhancedPoseClassifier(num_classes=12)\n",
    "            local_model.load_state_dict(global_model.state_dict())\n",
    "            \n",
    "            updated_weights = train_client(local_model, client_id+1, data_dir, epochs=local_epochs)\n",
    "            client_weights.append(updated_weights)\n",
    "        \n",
    "        # Aggregate updates\n",
    "        selected_data_sizes = [client_data_sizes[client_id] for client_id in selected_clients]\n",
    "        aggregated_weights = aggregate_weights(client_weights, selected_data_sizes)\n",
    "        \n",
    "        # Update global model with momentum\n",
    "        current_state = global_model.state_dict()\n",
    "        for key in current_state:\n",
    "            current_state[key] = 0.9 * current_state[key] + 0.1 * aggregated_weights[key]\n",
    "        global_model.load_state_dict(current_state)\n",
    "        \n",
    "        # Evaluate\n",
    "        accuracy = evaluate_model(global_model, test_features, test_labels)\n",
    "        accuracies.append(accuracy)\n",
    "        \n",
    "        if accuracy > best_accuracy:\n",
    "            best_accuracy = accuracy\n",
    "            torch.save(global_model.state_dict(), 'best_global_model.pth')\n",
    "        \n",
    "        print(f\"Round {round+1}: Test Accuracy = {accuracy:.4f} (Best: {best_accuracy:.4f})\")\n",
    "    \n",
    "    # Plot training progress\n",
    "    plt.figure(figsize=(10, 5))\n",
    "    plt.plot(accuracies, label='Test Accuracy')\n",
    "    plt.xlabel('FL Rounds')\n",
    "    plt.ylabel('Accuracy')\n",
    "    plt.title('Federated Learning Progress')\n",
    "    plt.legend()\n",
    "    plt.savefig('fl_training_progress.png')\n",
    "    plt.close()\n",
    "    \n",
    "    return global_model\n"
   ]
  },
  {
   "cell_type": "code",
   "execution_count": 210,
   "id": "81a421c3",
   "metadata": {},
   "outputs": [
    {
     "name": "stdout",
     "output_type": "stream",
     "text": [
      "All files verified. Starting Enhanced Federated Learning...\n",
      "Client data distribution: [314, 113, 365, 207, 209, 119, 388, 142, 382, 64]\n"
     ]
    },
    {
     "name": "stderr",
     "output_type": "stream",
     "text": [
      "FL Training:   3%|▎         | 1/30 [00:00<00:28,  1.01it/s]"
     ]
    },
    {
     "name": "stdout",
     "output_type": "stream",
     "text": [
      "\n",
      "Classification Report:\n",
      "              precision    recall  f1-score   support\n",
      "\n",
      "           0       0.00      0.00      0.00         0\n",
      "           1       0.00      0.00      0.00        57\n",
      "           2       0.00      0.00      0.00        51\n",
      "           3       0.00      0.00      0.00        56\n",
      "           4       0.00      0.00      0.00        47\n",
      "           5       0.12      0.60      0.20        50\n",
      "           6       0.00      0.00      0.00        47\n",
      "           7       0.00      0.00      0.00        37\n",
      "           8       0.00      0.00      0.00        17\n",
      "           9       0.00      0.00      0.00        12\n",
      "          10       0.00      0.00      0.00        63\n",
      "          11       0.12      0.56      0.20        52\n",
      "          12       0.00      0.00      0.00        11\n",
      "\n",
      "    accuracy                           0.12       500\n",
      "   macro avg       0.02      0.09      0.03       500\n",
      "weighted avg       0.02      0.12      0.04       500\n",
      "\n",
      "Round 1: Test Accuracy = 0.1180 (Best: 0.1180)\n"
     ]
    },
    {
     "name": "stderr",
     "output_type": "stream",
     "text": [
      "FL Training:   7%|▋         | 2/30 [00:01<00:27,  1.01it/s]"
     ]
    },
    {
     "name": "stdout",
     "output_type": "stream",
     "text": [
      "\n",
      "Classification Report:\n",
      "              precision    recall  f1-score   support\n",
      "\n",
      "           1       0.00      0.00      0.00        57\n",
      "           2       0.00      0.00      0.00        51\n",
      "           3       0.00      0.00      0.00        56\n",
      "           4       0.00      0.00      0.00        47\n",
      "           5       0.12      0.70      0.21        50\n",
      "           6       0.00      0.00      0.00        47\n",
      "           7       0.00      0.00      0.00        37\n",
      "           8       0.00      0.00      0.00        17\n",
      "           9       0.00      0.00      0.00        12\n",
      "          10       0.00      0.00      0.00        63\n",
      "          11       0.12      0.46      0.19        52\n",
      "          12       0.00      0.00      0.00        11\n",
      "\n",
      "    accuracy                           0.12       500\n",
      "   macro avg       0.02      0.10      0.03       500\n",
      "weighted avg       0.02      0.12      0.04       500\n",
      "\n",
      "Round 2: Test Accuracy = 0.1180 (Best: 0.1180)\n"
     ]
    },
    {
     "name": "stderr",
     "output_type": "stream",
     "text": [
      "FL Training:  10%|█         | 3/30 [00:03<00:27,  1.03s/it]"
     ]
    },
    {
     "name": "stdout",
     "output_type": "stream",
     "text": [
      "\n",
      "Classification Report:\n",
      "              precision    recall  f1-score   support\n",
      "\n",
      "           0       0.00      0.00      0.00         0\n",
      "           1       0.00      0.00      0.00        57\n",
      "           2       0.00      0.00      0.00        51\n",
      "           3       0.00      0.00      0.00        56\n",
      "           4       0.00      0.00      0.00        47\n",
      "           5       0.13      0.80      0.22        50\n",
      "           6       0.00      0.00      0.00        47\n",
      "           7       0.00      0.00      0.00        37\n",
      "           8       0.10      0.06      0.07        17\n",
      "           9       0.00      0.00      0.00        12\n",
      "          10       0.00      0.00      0.00        63\n",
      "          11       0.13      0.44      0.21        52\n",
      "          12       0.00      0.00      0.00        11\n",
      "\n",
      "    accuracy                           0.13       500\n",
      "   macro avg       0.03      0.10      0.04       500\n",
      "weighted avg       0.03      0.13      0.05       500\n",
      "\n",
      "Round 3: Test Accuracy = 0.1280 (Best: 0.1280)\n"
     ]
    },
    {
     "name": "stderr",
     "output_type": "stream",
     "text": [
      "FL Training:  13%|█▎        | 4/30 [00:04<00:25,  1.00it/s]"
     ]
    },
    {
     "name": "stdout",
     "output_type": "stream",
     "text": [
      "\n",
      "Classification Report:\n",
      "              precision    recall  f1-score   support\n",
      "\n",
      "           1       0.00      0.00      0.00        57\n",
      "           2       0.00      0.00      0.00        51\n",
      "           3       0.00      0.00      0.00        56\n",
      "           4       0.00      0.00      0.00        47\n",
      "           5       0.14      0.86      0.24        50\n",
      "           6       0.00      0.00      0.00        47\n",
      "           7       0.00      0.00      0.00        37\n",
      "           8       0.14      0.12      0.13        17\n",
      "           9       0.00      0.00      0.00        12\n",
      "          10       0.00      0.00      0.00        63\n",
      "          11       0.14      0.42      0.21        52\n",
      "          12       0.00      0.00      0.00        11\n",
      "\n",
      "    accuracy                           0.13       500\n",
      "   macro avg       0.04      0.12      0.05       500\n",
      "weighted avg       0.03      0.13      0.05       500\n",
      "\n",
      "Round 4: Test Accuracy = 0.1340 (Best: 0.1340)\n"
     ]
    },
    {
     "name": "stderr",
     "output_type": "stream",
     "text": [
      "FL Training:  17%|█▋        | 5/30 [00:05<00:28,  1.15s/it]"
     ]
    },
    {
     "name": "stdout",
     "output_type": "stream",
     "text": [
      "\n",
      "Classification Report:\n",
      "              precision    recall  f1-score   support\n",
      "\n",
      "           1       0.00      0.00      0.00        57\n",
      "           2       0.00      0.00      0.00        51\n",
      "           3       0.00      0.00      0.00        56\n",
      "           4       0.00      0.00      0.00        47\n",
      "           5       0.14      0.86      0.24        50\n",
      "           6       0.00      0.00      0.00        47\n",
      "           7       0.00      0.00      0.00        37\n",
      "           8       0.14      0.12      0.13        17\n",
      "           9       0.05      0.17      0.08        12\n",
      "          10       0.00      0.00      0.00        63\n",
      "          11       0.17      0.48      0.26        52\n",
      "          12       0.00      0.00      0.00        11\n",
      "\n",
      "    accuracy                           0.14       500\n",
      "   macro avg       0.04      0.14      0.06       500\n",
      "weighted avg       0.04      0.14      0.06       500\n",
      "\n",
      "Round 5: Test Accuracy = 0.1440 (Best: 0.1440)\n"
     ]
    },
    {
     "name": "stderr",
     "output_type": "stream",
     "text": [
      "FL Training:  20%|██        | 6/30 [00:06<00:26,  1.10s/it]"
     ]
    },
    {
     "name": "stdout",
     "output_type": "stream",
     "text": [
      "\n",
      "Classification Report:\n",
      "              precision    recall  f1-score   support\n",
      "\n",
      "           1       0.00      0.00      0.00        57\n",
      "           2       0.00      0.00      0.00        51\n",
      "           3       0.00      0.00      0.00        56\n",
      "           4       0.00      0.00      0.00        47\n",
      "           5       0.15      0.88      0.25        50\n",
      "           6       0.33      0.02      0.04        47\n",
      "           7       0.00      0.00      0.00        37\n",
      "           8       0.11      0.12      0.11        17\n",
      "           9       0.04      0.17      0.06        12\n",
      "          10       0.00      0.00      0.00        63\n",
      "          11       0.19      0.48      0.27        52\n",
      "          12       0.00      0.00      0.00        11\n",
      "\n",
      "    accuracy                           0.15       500\n",
      "   macro avg       0.07      0.14      0.06       500\n",
      "weighted avg       0.07      0.15      0.06       500\n",
      "\n",
      "Round 6: Test Accuracy = 0.1480 (Best: 0.1480)\n"
     ]
    },
    {
     "name": "stderr",
     "output_type": "stream",
     "text": [
      "FL Training:  23%|██▎       | 7/30 [00:07<00:25,  1.12s/it]"
     ]
    },
    {
     "name": "stdout",
     "output_type": "stream",
     "text": [
      "\n",
      "Classification Report:\n",
      "              precision    recall  f1-score   support\n",
      "\n",
      "           1       0.00      0.00      0.00        57\n",
      "           2       0.00      0.00      0.00        51\n",
      "           3       0.00      0.00      0.00        56\n",
      "           4       0.00      0.00      0.00        47\n",
      "           5       0.16      0.92      0.27        50\n",
      "           6       0.57      0.09      0.15        47\n",
      "           7       0.00      0.00      0.00        37\n",
      "           8       0.09      0.12      0.10        17\n",
      "           9       0.07      0.33      0.11        12\n",
      "          10       0.00      0.00      0.00        63\n",
      "          11       0.20      0.48      0.28        52\n",
      "          12       0.00      0.00      0.00        11\n",
      "\n",
      "    accuracy                           0.16       500\n",
      "   macro avg       0.09      0.16      0.08       500\n",
      "weighted avg       0.10      0.16      0.08       500\n",
      "\n",
      "Round 7: Test Accuracy = 0.1620 (Best: 0.1620)\n"
     ]
    },
    {
     "name": "stderr",
     "output_type": "stream",
     "text": [
      "FL Training:  27%|██▋       | 8/30 [00:08<00:23,  1.08s/it]"
     ]
    },
    {
     "name": "stdout",
     "output_type": "stream",
     "text": [
      "\n",
      "Classification Report:\n",
      "              precision    recall  f1-score   support\n",
      "\n",
      "           1       0.00      0.00      0.00        57\n",
      "           2       0.00      0.00      0.00        51\n",
      "           3       0.00      0.00      0.00        56\n",
      "           4       0.00      0.00      0.00        47\n",
      "           5       0.18      1.00      0.30        50\n",
      "           6       0.50      0.06      0.11        47\n",
      "           7       0.00      0.00      0.00        37\n",
      "           8       0.04      0.06      0.05        17\n",
      "           9       0.05      0.33      0.09        12\n",
      "          10       0.00      0.00      0.00        63\n",
      "          11       0.23      0.48      0.31        52\n",
      "          12       0.00      0.00      0.00        11\n",
      "\n",
      "    accuracy                           0.17       500\n",
      "   macro avg       0.08      0.16      0.07       500\n",
      "weighted avg       0.09      0.17      0.08       500\n",
      "\n",
      "Round 8: Test Accuracy = 0.1660 (Best: 0.1660)\n"
     ]
    },
    {
     "name": "stderr",
     "output_type": "stream",
     "text": [
      "FL Training:  30%|███       | 9/30 [00:09<00:22,  1.05s/it]"
     ]
    },
    {
     "name": "stdout",
     "output_type": "stream",
     "text": [
      "\n",
      "Classification Report:\n",
      "              precision    recall  f1-score   support\n",
      "\n",
      "           1       0.00      0.00      0.00        57\n",
      "           2       0.00      0.00      0.00        51\n",
      "           3       0.00      0.00      0.00        56\n",
      "           4       0.00      0.00      0.00        47\n",
      "           5       0.18      1.00      0.31        50\n",
      "           6       0.38      0.06      0.11        47\n",
      "           7       0.00      0.00      0.00        37\n",
      "           8       0.04      0.06      0.05        17\n",
      "           9       0.05      0.42      0.09        12\n",
      "          10       0.00      0.00      0.00        63\n",
      "          11       0.27      0.52      0.36        52\n",
      "          12       0.00      0.00      0.00        11\n",
      "\n",
      "    accuracy                           0.17       500\n",
      "   macro avg       0.08      0.17      0.08       500\n",
      "weighted avg       0.08      0.17      0.08       500\n",
      "\n",
      "Round 9: Test Accuracy = 0.1720 (Best: 0.1720)\n"
     ]
    },
    {
     "name": "stderr",
     "output_type": "stream",
     "text": [
      "FL Training:  33%|███▎      | 10/30 [00:10<00:20,  1.04s/it]"
     ]
    },
    {
     "name": "stdout",
     "output_type": "stream",
     "text": [
      "\n",
      "Classification Report:\n",
      "              precision    recall  f1-score   support\n",
      "\n",
      "           1       0.00      0.00      0.00        57\n",
      "           2       0.00      0.00      0.00        51\n",
      "           3       0.00      0.00      0.00        56\n",
      "           4       0.00      0.00      0.00        47\n",
      "           5       0.18      0.98      0.31        50\n",
      "           6       0.36      0.09      0.14        47\n",
      "           7       0.00      0.00      0.00        37\n",
      "           8       0.07      0.12      0.09        17\n",
      "           9       0.06      0.50      0.10        12\n",
      "          10       0.00      0.00      0.00        63\n",
      "          11       0.31      0.52      0.39        52\n",
      "          12       0.00      0.00      0.00        11\n",
      "\n",
      "    accuracy                           0.18       500\n",
      "   macro avg       0.08      0.18      0.09       500\n",
      "weighted avg       0.09      0.18      0.09       500\n",
      "\n",
      "Round 10: Test Accuracy = 0.1760 (Best: 0.1760)\n"
     ]
    },
    {
     "name": "stderr",
     "output_type": "stream",
     "text": [
      "FL Training:  37%|███▋      | 11/30 [00:11<00:18,  1.01it/s]"
     ]
    },
    {
     "name": "stdout",
     "output_type": "stream",
     "text": [
      "\n",
      "Classification Report:\n",
      "              precision    recall  f1-score   support\n",
      "\n",
      "           1       0.00      0.00      0.00        57\n",
      "           2       0.00      0.00      0.00        51\n",
      "           3       0.00      0.00      0.00        56\n",
      "           4       0.00      0.00      0.00        47\n",
      "           5       0.19      0.98      0.31        50\n",
      "           6       0.33      0.09      0.14        47\n",
      "           7       0.00      0.00      0.00        37\n",
      "           8       0.07      0.12      0.09        17\n",
      "           9       0.07      0.67      0.13        12\n",
      "          10       0.00      0.00      0.00        63\n",
      "          11       0.35      0.52      0.42        52\n",
      "          12       0.00      0.00      0.00        11\n",
      "\n",
      "    accuracy                           0.18       500\n",
      "   macro avg       0.08      0.20      0.09       500\n",
      "weighted avg       0.09      0.18      0.09       500\n",
      "\n",
      "Round 11: Test Accuracy = 0.1800 (Best: 0.1800)\n"
     ]
    },
    {
     "name": "stderr",
     "output_type": "stream",
     "text": [
      "FL Training:  40%|████      | 12/30 [00:12<00:17,  1.03it/s]"
     ]
    },
    {
     "name": "stdout",
     "output_type": "stream",
     "text": [
      "\n",
      "Classification Report:\n",
      "              precision    recall  f1-score   support\n",
      "\n",
      "           1       0.00      0.00      0.00        57\n",
      "           2       0.00      0.00      0.00        51\n",
      "           3       0.00      0.00      0.00        56\n",
      "           4       0.00      0.00      0.00        47\n",
      "           5       0.19      0.96      0.31        50\n",
      "           6       0.31      0.09      0.13        47\n",
      "           7       0.00      0.00      0.00        37\n",
      "           8       0.07      0.12      0.09        17\n",
      "           9       0.07      0.75      0.13        12\n",
      "          10       0.00      0.00      0.00        63\n",
      "          11       0.36      0.52      0.42        52\n",
      "          12       0.00      0.00      0.00        11\n",
      "\n",
      "    accuracy                           0.18       500\n",
      "   macro avg       0.08      0.20      0.09       500\n",
      "weighted avg       0.09      0.18      0.09       500\n",
      "\n",
      "Round 12: Test Accuracy = 0.1800 (Best: 0.1800)\n"
     ]
    },
    {
     "name": "stderr",
     "output_type": "stream",
     "text": [
      "FL Training:  43%|████▎     | 13/30 [00:13<00:16,  1.05it/s]"
     ]
    },
    {
     "name": "stdout",
     "output_type": "stream",
     "text": [
      "\n",
      "Classification Report:\n",
      "              precision    recall  f1-score   support\n",
      "\n",
      "           1       1.00      0.02      0.03        57\n",
      "           2       0.00      0.00      0.00        51\n",
      "           3       0.00      0.00      0.00        56\n",
      "           4       0.00      0.00      0.00        47\n",
      "           5       0.19      0.94      0.32        50\n",
      "           6       0.21      0.09      0.12        47\n",
      "           7       0.00      0.00      0.00        37\n",
      "           8       0.10      0.18      0.13        17\n",
      "           9       0.08      0.75      0.14        12\n",
      "          10       0.00      0.00      0.00        63\n",
      "          11       0.34      0.52      0.41        52\n",
      "          12       0.00      0.00      0.00        11\n",
      "\n",
      "    accuracy                           0.18       500\n",
      "   macro avg       0.16      0.21      0.10       500\n",
      "weighted avg       0.19      0.18      0.10       500\n",
      "\n",
      "Round 13: Test Accuracy = 0.1820 (Best: 0.1820)\n"
     ]
    },
    {
     "name": "stderr",
     "output_type": "stream",
     "text": [
      "FL Training:  47%|████▋     | 14/30 [00:14<00:15,  1.05it/s]"
     ]
    },
    {
     "name": "stdout",
     "output_type": "stream",
     "text": [
      "\n",
      "Classification Report:\n",
      "              precision    recall  f1-score   support\n",
      "\n",
      "           1       1.00      0.05      0.10        57\n",
      "           2       0.00      0.00      0.00        51\n",
      "           3       0.00      0.00      0.00        56\n",
      "           4       0.17      0.02      0.04        47\n",
      "           5       0.21      0.94      0.34        50\n",
      "           6       0.23      0.13      0.16        47\n",
      "           7       0.00      0.00      0.00        37\n",
      "           8       0.15      0.35      0.21        17\n",
      "           9       0.08      0.83      0.15        12\n",
      "          10       0.00      0.00      0.00        63\n",
      "          11       0.36      0.52      0.43        52\n",
      "          12       0.00      0.00      0.00        11\n",
      "\n",
      "    accuracy                           0.20       500\n",
      "   macro avg       0.18      0.24      0.12       500\n",
      "weighted avg       0.22      0.20      0.12       500\n",
      "\n",
      "Round 14: Test Accuracy = 0.2000 (Best: 0.2000)\n"
     ]
    },
    {
     "name": "stderr",
     "output_type": "stream",
     "text": [
      "FL Training:  50%|█████     | 15/30 [00:15<00:14,  1.03it/s]"
     ]
    },
    {
     "name": "stdout",
     "output_type": "stream",
     "text": [
      "\n",
      "Classification Report:\n",
      "              precision    recall  f1-score   support\n",
      "\n",
      "           1       0.83      0.09      0.16        57\n",
      "           2       0.00      0.00      0.00        51\n",
      "           3       0.00      0.00      0.00        56\n",
      "           4       0.17      0.02      0.04        47\n",
      "           5       0.22      0.94      0.35        50\n",
      "           6       0.22      0.13      0.16        47\n",
      "           7       0.00      0.00      0.00        37\n",
      "           8       0.12      0.35      0.18        17\n",
      "           9       0.08      0.83      0.15        12\n",
      "          10       0.00      0.00      0.00        63\n",
      "          11       0.36      0.52      0.43        52\n",
      "          12       0.00      0.00      0.00        11\n",
      "\n",
      "    accuracy                           0.20       500\n",
      "   macro avg       0.17      0.24      0.12       500\n",
      "weighted avg       0.20      0.20      0.13       500\n",
      "\n",
      "Round 15: Test Accuracy = 0.2040 (Best: 0.2040)\n"
     ]
    },
    {
     "name": "stderr",
     "output_type": "stream",
     "text": [
      "FL Training:  53%|█████▎    | 16/30 [00:16<00:13,  1.02it/s]"
     ]
    },
    {
     "name": "stdout",
     "output_type": "stream",
     "text": [
      "\n",
      "Classification Report:\n",
      "              precision    recall  f1-score   support\n",
      "\n",
      "           1       0.83      0.09      0.16        57\n",
      "           2       0.00      0.00      0.00        51\n",
      "           3       0.00      0.00      0.00        56\n",
      "           4       0.14      0.02      0.04        47\n",
      "           5       0.22      0.90      0.35        50\n",
      "           6       0.25      0.17      0.20        47\n",
      "           7       0.00      0.00      0.00        37\n",
      "           8       0.12      0.35      0.18        17\n",
      "           9       0.08      0.83      0.15        12\n",
      "          10       0.00      0.00      0.00        63\n",
      "          11       0.36      0.52      0.43        52\n",
      "          12       0.00      0.00      0.00        11\n",
      "\n",
      "    accuracy                           0.20       500\n",
      "   macro avg       0.17      0.24      0.13       500\n",
      "weighted avg       0.20      0.20      0.13       500\n",
      "\n",
      "Round 16: Test Accuracy = 0.2040 (Best: 0.2040)\n"
     ]
    },
    {
     "name": "stderr",
     "output_type": "stream",
     "text": [
      "FL Training:  57%|█████▋    | 17/30 [00:17<00:12,  1.06it/s]"
     ]
    },
    {
     "name": "stdout",
     "output_type": "stream",
     "text": [
      "\n",
      "Classification Report:\n",
      "              precision    recall  f1-score   support\n",
      "\n",
      "           1       0.75      0.05      0.10        57\n",
      "           2       0.50      0.02      0.04        51\n",
      "           3       0.00      0.00      0.00        56\n",
      "           4       0.25      0.04      0.07        47\n",
      "           5       0.23      0.92      0.37        50\n",
      "           6       0.23      0.15      0.18        47\n",
      "           7       0.00      0.00      0.00        37\n",
      "           8       0.09      0.35      0.15        17\n",
      "           9       0.08      0.83      0.15        12\n",
      "          10       1.00      0.03      0.06        63\n",
      "          11       0.39      0.50      0.44        52\n",
      "          12       0.00      0.00      0.00        11\n",
      "\n",
      "    accuracy                           0.21       500\n",
      "   macro avg       0.29      0.24      0.13       500\n",
      "weighted avg       0.38      0.21      0.14       500\n",
      "\n",
      "Round 17: Test Accuracy = 0.2060 (Best: 0.2060)\n"
     ]
    },
    {
     "name": "stderr",
     "output_type": "stream",
     "text": [
      "FL Training:  60%|██████    | 18/30 [00:18<00:11,  1.04it/s]"
     ]
    },
    {
     "name": "stdout",
     "output_type": "stream",
     "text": [
      "\n",
      "Classification Report:\n",
      "              precision    recall  f1-score   support\n",
      "\n",
      "           1       0.80      0.07      0.13        57\n",
      "           2       0.50      0.02      0.04        51\n",
      "           3       0.00      0.00      0.00        56\n",
      "           4       0.20      0.04      0.07        47\n",
      "           5       0.23      0.90      0.36        50\n",
      "           6       0.25      0.17      0.20        47\n",
      "           7       0.00      0.00      0.00        37\n",
      "           8       0.09      0.35      0.14        17\n",
      "           9       0.08      0.75      0.14        12\n",
      "          10       1.00      0.03      0.06        63\n",
      "          11       0.38      0.50      0.43        52\n",
      "          12       0.00      0.00      0.00        11\n",
      "\n",
      "    accuracy                           0.21       500\n",
      "   macro avg       0.29      0.24      0.13       500\n",
      "weighted avg       0.38      0.21      0.14       500\n",
      "\n",
      "Round 18: Test Accuracy = 0.2060 (Best: 0.2060)\n"
     ]
    },
    {
     "name": "stderr",
     "output_type": "stream",
     "text": [
      "FL Training:  63%|██████▎   | 19/30 [00:19<00:10,  1.03it/s]"
     ]
    },
    {
     "name": "stdout",
     "output_type": "stream",
     "text": [
      "\n",
      "Classification Report:\n",
      "              precision    recall  f1-score   support\n",
      "\n",
      "           1       0.71      0.09      0.16        57\n",
      "           2       0.50      0.02      0.04        51\n",
      "           3       0.00      0.00      0.00        56\n",
      "           4       0.27      0.06      0.10        47\n",
      "           5       0.24      0.90      0.38        50\n",
      "           6       0.28      0.21      0.24        47\n",
      "           7       0.00      0.00      0.00        37\n",
      "           8       0.10      0.41      0.16        17\n",
      "           9       0.08      0.75      0.15        12\n",
      "          10       1.00      0.03      0.06        63\n",
      "          11       0.38      0.52      0.44        52\n",
      "          12       0.00      0.00      0.00        11\n",
      "\n",
      "    accuracy                           0.22       500\n",
      "   macro avg       0.30      0.25      0.14       500\n",
      "weighted avg       0.38      0.22      0.15       500\n",
      "\n",
      "Round 19: Test Accuracy = 0.2180 (Best: 0.2180)\n"
     ]
    },
    {
     "name": "stderr",
     "output_type": "stream",
     "text": [
      "FL Training:  67%|██████▋   | 20/30 [00:20<00:09,  1.03it/s]"
     ]
    },
    {
     "name": "stdout",
     "output_type": "stream",
     "text": [
      "\n",
      "Classification Report:\n",
      "              precision    recall  f1-score   support\n",
      "\n",
      "           1       0.75      0.11      0.18        57\n",
      "           2       1.00      0.02      0.04        51\n",
      "           3       0.00      0.00      0.00        56\n",
      "           4       0.27      0.06      0.10        47\n",
      "           5       0.25      0.92      0.40        50\n",
      "           6       0.32      0.28      0.30        47\n",
      "           7       0.00      0.00      0.00        37\n",
      "           8       0.09      0.41      0.15        17\n",
      "           9       0.08      0.75      0.15        12\n",
      "          10       1.00      0.03      0.06        63\n",
      "          11       0.38      0.52      0.44        52\n",
      "          12       0.00      0.00      0.00        11\n",
      "\n",
      "    accuracy                           0.23       500\n",
      "   macro avg       0.35      0.26      0.15       500\n",
      "weighted avg       0.44      0.23      0.16       500\n",
      "\n",
      "Round 20: Test Accuracy = 0.2280 (Best: 0.2280)\n"
     ]
    },
    {
     "name": "stderr",
     "output_type": "stream",
     "text": [
      "FL Training:  70%|███████   | 21/30 [00:21<00:09,  1.03s/it]"
     ]
    },
    {
     "name": "stdout",
     "output_type": "stream",
     "text": [
      "\n",
      "Classification Report:\n",
      "              precision    recall  f1-score   support\n",
      "\n",
      "           1       0.67      0.11      0.18        57\n",
      "           2       1.00      0.02      0.04        51\n",
      "           3       0.00      0.00      0.00        56\n",
      "           4       0.50      0.17      0.25        47\n",
      "           5       0.27      0.86      0.41        50\n",
      "           6       0.33      0.36      0.35        47\n",
      "           7       0.00      0.00      0.00        37\n",
      "           8       0.09      0.41      0.14        17\n",
      "           9       0.08      0.75      0.15        12\n",
      "          10       1.00      0.03      0.06        63\n",
      "          11       0.38      0.52      0.44        52\n",
      "          12       0.00      0.00      0.00        11\n",
      "\n",
      "    accuracy                           0.24       500\n",
      "   macro avg       0.36      0.27      0.17       500\n",
      "weighted avg       0.45      0.24      0.18       500\n",
      "\n",
      "Round 21: Test Accuracy = 0.2400 (Best: 0.2400)\n"
     ]
    },
    {
     "name": "stderr",
     "output_type": "stream",
     "text": [
      "FL Training:  73%|███████▎  | 22/30 [00:22<00:08,  1.04s/it]"
     ]
    },
    {
     "name": "stdout",
     "output_type": "stream",
     "text": [
      "\n",
      "Classification Report:\n",
      "              precision    recall  f1-score   support\n",
      "\n",
      "           1       0.67      0.14      0.23        57\n",
      "           2       0.00      0.00      0.00        51\n",
      "           3       0.00      0.00      0.00        56\n",
      "           4       0.50      0.17      0.25        47\n",
      "           5       0.28      0.86      0.43        50\n",
      "           6       0.35      0.43      0.38        47\n",
      "           7       0.00      0.00      0.00        37\n",
      "           8       0.08      0.41      0.14        17\n",
      "           9       0.10      0.83      0.17        12\n",
      "          10       0.75      0.05      0.09        63\n",
      "          11       0.39      0.54      0.46        52\n",
      "          12       0.00      0.00      0.00        11\n",
      "\n",
      "    accuracy                           0.25       500\n",
      "   macro avg       0.26      0.29      0.18       500\n",
      "weighted avg       0.32      0.25      0.20       500\n",
      "\n",
      "Round 22: Test Accuracy = 0.2540 (Best: 0.2540)\n"
     ]
    },
    {
     "name": "stderr",
     "output_type": "stream",
     "text": [
      "FL Training:  77%|███████▋  | 23/30 [00:23<00:07,  1.09s/it]"
     ]
    },
    {
     "name": "stdout",
     "output_type": "stream",
     "text": [
      "\n",
      "Classification Report:\n",
      "              precision    recall  f1-score   support\n",
      "\n",
      "           1       0.71      0.18      0.28        57\n",
      "           2       0.00      0.00      0.00        51\n",
      "           3       0.00      0.00      0.00        56\n",
      "           4       0.50      0.17      0.25        47\n",
      "           5       0.31      0.88      0.46        50\n",
      "           6       0.34      0.49      0.40        47\n",
      "           7       0.00      0.00      0.00        37\n",
      "           8       0.08      0.41      0.14        17\n",
      "           9       0.10      0.83      0.18        12\n",
      "          10       0.75      0.05      0.09        63\n",
      "          11       0.41      0.56      0.47        52\n",
      "          12       0.00      0.00      0.00        11\n",
      "\n",
      "    accuracy                           0.27       500\n",
      "   macro avg       0.27      0.30      0.19       500\n",
      "weighted avg       0.33      0.27      0.21       500\n",
      "\n",
      "Round 23: Test Accuracy = 0.2680 (Best: 0.2680)\n"
     ]
    },
    {
     "name": "stderr",
     "output_type": "stream",
     "text": [
      "FL Training:  80%|████████  | 24/30 [00:24<00:06,  1.12s/it]"
     ]
    },
    {
     "name": "stdout",
     "output_type": "stream",
     "text": [
      "\n",
      "Classification Report:\n",
      "              precision    recall  f1-score   support\n",
      "\n",
      "           1       0.69      0.19      0.30        57\n",
      "           2       0.00      0.00      0.00        51\n",
      "           3       0.00      0.00      0.00        56\n",
      "           4       0.50      0.17      0.25        47\n",
      "           5       0.32      0.82      0.46        50\n",
      "           6       0.32      0.49      0.38        47\n",
      "           7       0.00      0.00      0.00        37\n",
      "           8       0.07      0.41      0.13        17\n",
      "           9       0.10      0.83      0.19        12\n",
      "          10       0.80      0.06      0.12        63\n",
      "          11       0.39      0.54      0.45        52\n",
      "          12       0.00      0.00      0.00        11\n",
      "\n",
      "    accuracy                           0.26       500\n",
      "   macro avg       0.27      0.29      0.19       500\n",
      "weighted avg       0.33      0.26      0.21       500\n",
      "\n",
      "Round 24: Test Accuracy = 0.2640 (Best: 0.2680)\n"
     ]
    },
    {
     "name": "stderr",
     "output_type": "stream",
     "text": [
      "FL Training:  83%|████████▎ | 25/30 [00:25<00:05,  1.13s/it]"
     ]
    },
    {
     "name": "stdout",
     "output_type": "stream",
     "text": [
      "\n",
      "Classification Report:\n",
      "              precision    recall  f1-score   support\n",
      "\n",
      "           1       0.61      0.19      0.29        57\n",
      "           2       0.50      0.02      0.04        51\n",
      "           3       0.00      0.00      0.00        56\n",
      "           4       0.47      0.17      0.25        47\n",
      "           5       0.34      0.80      0.48        50\n",
      "           6       0.29      0.49      0.37        47\n",
      "           7       0.00      0.00      0.00        37\n",
      "           8       0.07      0.41      0.12        17\n",
      "           9       0.11      0.83      0.19        12\n",
      "          10       0.80      0.06      0.12        63\n",
      "          11       0.39      0.54      0.46        52\n",
      "          12       0.00      0.00      0.00        11\n",
      "\n",
      "    accuracy                           0.26       500\n",
      "   macro avg       0.30      0.29      0.19       500\n",
      "weighted avg       0.37      0.26      0.21       500\n",
      "\n",
      "Round 25: Test Accuracy = 0.2640 (Best: 0.2680)\n"
     ]
    },
    {
     "name": "stderr",
     "output_type": "stream",
     "text": [
      "FL Training:  87%|████████▋ | 26/30 [00:27<00:04,  1.15s/it]"
     ]
    },
    {
     "name": "stdout",
     "output_type": "stream",
     "text": [
      "\n",
      "Classification Report:\n",
      "              precision    recall  f1-score   support\n",
      "\n",
      "           1       0.61      0.19      0.29        57\n",
      "           2       0.50      0.02      0.04        51\n",
      "           3       0.00      0.00      0.00        56\n",
      "           4       0.47      0.17      0.25        47\n",
      "           5       0.34      0.80      0.48        50\n",
      "           6       0.31      0.49      0.38        47\n",
      "           7       0.00      0.00      0.00        37\n",
      "           8       0.07      0.41      0.12        17\n",
      "           9       0.11      0.83      0.19        12\n",
      "          10       0.57      0.06      0.11        63\n",
      "          11       0.39      0.54      0.46        52\n",
      "          12       0.00      0.00      0.00        11\n",
      "\n",
      "    accuracy                           0.26       500\n",
      "   macro avg       0.28      0.29      0.19       500\n",
      "weighted avg       0.35      0.26      0.21       500\n",
      "\n",
      "Round 26: Test Accuracy = 0.2640 (Best: 0.2680)\n"
     ]
    },
    {
     "name": "stderr",
     "output_type": "stream",
     "text": [
      "FL Training:  90%|█████████ | 27/30 [00:28<00:03,  1.16s/it]"
     ]
    },
    {
     "name": "stdout",
     "output_type": "stream",
     "text": [
      "\n",
      "Classification Report:\n",
      "              precision    recall  f1-score   support\n",
      "\n",
      "           1       0.63      0.21      0.32        57\n",
      "           2       0.50      0.02      0.04        51\n",
      "           3       0.00      0.00      0.00        56\n",
      "           4       0.42      0.17      0.24        47\n",
      "           5       0.34      0.80      0.48        50\n",
      "           6       0.31      0.49      0.38        47\n",
      "           7       0.00      0.00      0.00        37\n",
      "           8       0.07      0.41      0.12        17\n",
      "           9       0.11      0.83      0.19        12\n",
      "          10       0.57      0.06      0.11        63\n",
      "          11       0.40      0.54      0.46        52\n",
      "          12       0.00      0.00      0.00        11\n",
      "\n",
      "    accuracy                           0.27       500\n",
      "   macro avg       0.28      0.29      0.19       500\n",
      "weighted avg       0.34      0.27      0.22       500\n",
      "\n",
      "Round 27: Test Accuracy = 0.2660 (Best: 0.2680)\n"
     ]
    },
    {
     "name": "stderr",
     "output_type": "stream",
     "text": [
      "FL Training:  93%|█████████▎| 28/30 [00:29<00:02,  1.14s/it]"
     ]
    },
    {
     "name": "stdout",
     "output_type": "stream",
     "text": [
      "\n",
      "Classification Report:\n",
      "              precision    recall  f1-score   support\n",
      "\n",
      "           1       0.60      0.21      0.31        57\n",
      "           2       0.50      0.02      0.04        51\n",
      "           3       0.00      0.00      0.00        56\n",
      "           4       0.40      0.17      0.24        47\n",
      "           5       0.38      0.80      0.52        50\n",
      "           6       0.29      0.51      0.37        47\n",
      "           7       0.00      0.00      0.00        37\n",
      "           8       0.07      0.41      0.12        17\n",
      "           9       0.11      0.83      0.19        12\n",
      "          10       0.62      0.08      0.14        63\n",
      "          11       0.41      0.54      0.46        52\n",
      "          12       0.00      0.00      0.00        11\n",
      "\n",
      "    accuracy                           0.27       500\n",
      "   macro avg       0.28      0.30      0.20       500\n",
      "weighted avg       0.35      0.27      0.22       500\n",
      "\n",
      "Round 28: Test Accuracy = 0.2700 (Best: 0.2700)\n"
     ]
    },
    {
     "name": "stderr",
     "output_type": "stream",
     "text": [
      "FL Training:  97%|█████████▋| 29/30 [00:30<00:01,  1.13s/it]"
     ]
    },
    {
     "name": "stdout",
     "output_type": "stream",
     "text": [
      "\n",
      "Classification Report:\n",
      "              precision    recall  f1-score   support\n",
      "\n",
      "           1       0.57      0.21      0.31        57\n",
      "           2       0.50      0.02      0.04        51\n",
      "           3       0.00      0.00      0.00        56\n",
      "           4       0.38      0.17      0.24        47\n",
      "           5       0.38      0.80      0.52        50\n",
      "           6       0.29      0.51      0.37        47\n",
      "           7       0.00      0.00      0.00        37\n",
      "           8       0.07      0.41      0.12        17\n",
      "           9       0.11      0.83      0.19        12\n",
      "          10       0.62      0.08      0.14        63\n",
      "          11       0.40      0.54      0.46        52\n",
      "          12       0.00      0.00      0.00        11\n",
      "\n",
      "    accuracy                           0.27       500\n",
      "   macro avg       0.28      0.30      0.20       500\n",
      "weighted avg       0.34      0.27      0.22       500\n",
      "\n",
      "Round 29: Test Accuracy = 0.2700 (Best: 0.2700)\n"
     ]
    },
    {
     "name": "stderr",
     "output_type": "stream",
     "text": [
      "FL Training: 100%|██████████| 30/30 [00:31<00:00,  1.05s/it]"
     ]
    },
    {
     "name": "stdout",
     "output_type": "stream",
     "text": [
      "\n",
      "Classification Report:\n",
      "              precision    recall  f1-score   support\n",
      "\n",
      "           1       0.57      0.21      0.31        57\n",
      "           2       0.50      0.02      0.04        51\n",
      "           3       0.00      0.00      0.00        56\n",
      "           4       0.40      0.17      0.24        47\n",
      "           5       0.40      0.78      0.53        50\n",
      "           6       0.28      0.53      0.37        47\n",
      "           7       0.00      0.00      0.00        37\n",
      "           8       0.07      0.41      0.12        17\n",
      "           9       0.11      0.83      0.19        12\n",
      "          10       0.67      0.10      0.17        63\n",
      "          11       0.41      0.56      0.47        52\n",
      "          12       0.00      0.00      0.00        11\n",
      "\n",
      "    accuracy                           0.27       500\n",
      "   macro avg       0.28      0.30      0.20       500\n",
      "weighted avg       0.35      0.27      0.23       500\n",
      "\n",
      "Round 30: Test Accuracy = 0.2740 (Best: 0.2740)\n"
     ]
    },
    {
     "name": "stderr",
     "output_type": "stream",
     "text": [
      "\n"
     ]
    },
    {
     "name": "stdout",
     "output_type": "stream",
     "text": [
      "\n",
      "Classification Report:\n",
      "              precision    recall  f1-score   support\n",
      "\n",
      "           1       0.57      0.21      0.31        57\n",
      "           2       0.50      0.02      0.04        51\n",
      "           3       0.00      0.00      0.00        56\n",
      "           4       0.40      0.17      0.24        47\n",
      "           5       0.40      0.78      0.53        50\n",
      "           6       0.28      0.53      0.37        47\n",
      "           7       0.00      0.00      0.00        37\n",
      "           8       0.07      0.41      0.12        17\n",
      "           9       0.11      0.83      0.19        12\n",
      "          10       0.67      0.10      0.17        63\n",
      "          11       0.41      0.56      0.47        52\n",
      "          12       0.00      0.00      0.00        11\n",
      "\n",
      "    accuracy                           0.27       500\n",
      "   macro avg       0.28      0.30      0.20       500\n",
      "weighted avg       0.35      0.27      0.23       500\n",
      "\n",
      "\n",
      "Final Model Test Accuracy: 0.2740\n"
     ]
    }
   ],
   "source": [
    "# 5. Run the Enhanced FL Process\n",
    "# ======================\n",
    "\n",
    "if __name__ == \"__main__\":\n",
    "    # Set directories\n",
    "    CLIENT_DATA_DIR = './client_datasets'\n",
    "    TEST_DATA_DIR = '.'  # test files in main folder\n",
    "\n",
    "    # Verify files\n",
    "    for i in range(1, 11):\n",
    "        assert os.path.exists(os.path.join(CLIENT_DATA_DIR, f'client_{i}_features.csv')), f\"Missing client_{i}_features.csv\"\n",
    "        assert os.path.exists(os.path.join(CLIENT_DATA_DIR, f'client_{i}_labels.csv')), f\"Missing client_{i}_labels.csv\"\n",
    "    \n",
    "    assert os.path.exists(os.path.join(TEST_DATA_DIR, 'test_features.csv')), \"Missing test_features.csv\"\n",
    "    assert os.path.exists(os.path.join(TEST_DATA_DIR, 'test_labels.csv')), \"Missing test_labels.csv\"\n",
    "\n",
    "    print(\"All files verified. Starting Enhanced Federated Learning...\")\n",
    "\n",
    "    # Run FL with improved parameters\n",
    "    final_model = federated_learning(\n",
    "        data_dir=CLIENT_DATA_DIR,\n",
    "        test_data_dir=TEST_DATA_DIR,\n",
    "        num_clients=10,\n",
    "        rounds=30,  # Increased rounds\n",
    "        clients_per_round=7,  # More clients per round\n",
    "        local_epochs=5  # More local epochs\n",
    "    )\n",
    "\n",
    "    # Final evaluation\n",
    "    test_features, test_labels = load_test_data(TEST_DATA_DIR)\n",
    "    final_accuracy = evaluate_model(final_model, test_features, test_labels)\n",
    "    print(f\"\\nFinal Model Test Accuracy: {final_accuracy:.4f}\")"
   ]
  }
 ],
 "metadata": {
  "kernelspec": {
   "display_name": "Python 3",
   "language": "python",
   "name": "python3"
  },
  "language_info": {
   "codemirror_mode": {
    "name": "ipython",
    "version": 3
   },
   "file_extension": ".py",
   "mimetype": "text/x-python",
   "name": "python",
   "nbconvert_exporter": "python",
   "pygments_lexer": "ipython3",
   "version": "3.13.3"
  }
 },
 "nbformat": 4,
 "nbformat_minor": 5
}
